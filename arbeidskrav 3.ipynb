{
 "cells": [
  {
   "cell_type": "markdown",
   "id": "154aef80-ecdb-4f3b-800c-360535d5ae10",
   "metadata": {
    "tags": []
   },
   "source": [
    "# SOK-1006 V23\n",
    "\n",
    "## Arbeidskrav 3\n",
    "\n",
    "### Frist fredag 10. februar kl 18.00 i Canvas\n",
    "\n",
    "**Lever inn lenken til ditt repo på GitHub hvor løsningen ligger**. Individuell innlevering.\n",
    "\n",
    "Se Jupyter notatblokk \"Forsmak mappe 1\" for et forslag til fremgangsmåte her, og kap 9 i boka. Samt forelesning 08.02.\n",
    "\n",
    "Vi ser på markedet for oppdrettslaks på s. 101-104 i boka, og som vi har analysert i forelesning 5.      \n",
    "\n",
    "Med en stykkavgift på $t$ kr per enhet pålagt selgere kan vi skrive etterspørsel og tilbud i (1) og (2):   \n",
    "\n",
    "\n",
    "\\begin{equation}\n",
    "   x^{D}= 500 -3.2p\\tag{1}\n",
    "\\end{equation}\n",
    "\n",
    "og tilbud:\n",
    "\n",
    "\n",
    "\\begin{equation}\n",
    "   x^{S}= -100 + 4.3(p-t)\\tag{2}\n",
    "\\end{equation}\n",
    "\n",
    "1. Finn likevektspris og -kvantum for alle verdier av $t$.        \n",
    "2. Finn uttrykk for konsument- og produsentoverskudd, samt avgiftproveny.           \n",
    "2. Tegn likevekten for $t=0$ og fargelegg KO og PO.     \n",
    "2. Tegn inn likevekten for $t=4$, og fargelegg avgiftproveny.      \n",
    "4. Bruk de uttrykkene som du har laget for å fylle ut følgende tabell. NB det er mening at du skal fylle ut tabellen med uttrykk som du har regnet i koden (ikke skriv inn tall manuelt - se Forsmak mappe 1.ipynb)."
   ]
  },
  {
   "cell_type": "code",
   "execution_count": 19,
   "id": "429402f5-5578-4bd3-9fee-35b4277a35c4",
   "metadata": {},
   "outputs": [],
   "source": [
    "import sympy as sp\n",
    "import numpy as np\n",
    "\n",
    "def demand(p):\n",
    "    return (500-p)/3.2\n",
    "\n",
    "def supply(p,t):\n",
    "    return ((100+p)/4.3)+t\n",
    "\n",
    "def supply2(p,t):\n",
    "    return 1.23*t + 23.25\n",
    "\n",
    "p,t=sp.symbols('p t', real=True, positive=True)\n",
    "\n"
   ]
  },
  {
   "cell_type": "code",
   "execution_count": 20,
   "id": "ca305aac-79b2-411a-a5cd-d715ba5c2893",
   "metadata": {},
   "outputs": [
    {
     "data": {
      "text/plain": [
       "[119.047619047619]"
      ]
     },
     "execution_count": 20,
     "metadata": {},
     "output_type": "execute_result"
    }
   ],
   "source": [
    "inv_d = sp.Eq(500-3.2*p,p)\n",
    "inv_ds = sp.solve(inv_d,p)\n",
    "inv_ds"
   ]
  },
  {
   "cell_type": "code",
   "execution_count": 21,
   "id": "c8659d24-c367-457e-b6cc-7244e767365a",
   "metadata": {},
   "outputs": [
    {
     "data": {
      "text/latex": [
       "$\\displaystyle 156.25 - 0.3125 p = 0.232558139534884 p + t + 23.2558139534884$"
      ],
      "text/plain": [
       "Eq(156.25 - 0.3125*p, 0.232558139534884*p + t + 23.2558139534884)"
      ]
     },
     "execution_count": 21,
     "metadata": {},
     "output_type": "execute_result"
    }
   ],
   "source": [
    "eq_lik=sp.Eq(demand(p),supply(p,t))\n",
    "eq_lik"
   ]
  },
  {
   "cell_type": "code",
   "execution_count": 22,
   "id": "ef05974d-d03d-44b3-8029-0264f7032030",
   "metadata": {},
   "outputs": [
    {
     "data": {
      "text/latex": [
       "$\\displaystyle 244.0 - 1.83466666666667 t$"
      ],
      "text/plain": [
       "244.0 - 1.83466666666667*t"
      ]
     },
     "execution_count": 22,
     "metadata": {},
     "output_type": "execute_result"
    }
   ],
   "source": [
    "sol_eqp = sp.solve(eq_lik,p)\n",
    "sol_eqp[0]"
   ]
  },
  {
   "cell_type": "code",
   "execution_count": 23,
   "id": "d8e689d8-710f-4f92-b01f-059b263a6915",
   "metadata": {},
   "outputs": [
    {
     "data": {
      "text/latex": [
       "$\\displaystyle 0.573333333333333 t + 80.0$"
      ],
      "text/plain": [
       "0.573333333333333*t + 80.0"
      ]
     },
     "execution_count": 23,
     "metadata": {},
     "output_type": "execute_result"
    }
   ],
   "source": [
    "sol_eqq = supply(sol_eqp[0],t)\n",
    "sol_eqq\n",
    "\n"
   ]
  },
  {
   "cell_type": "code",
   "execution_count": 24,
   "id": "82aef465-4601-4e06-a076-4fb0395241a1",
   "metadata": {},
   "outputs": [
    {
     "data": {
      "text/plain": [
       "244.0"
      ]
     },
     "execution_count": 24,
     "metadata": {},
     "output_type": "execute_result"
    }
   ],
   "source": [
    "p_eq_fn=sp.lambdify(\n",
    "    (t,p), \n",
    "    sol_eqp[0]\n",
    ")\n",
    "\n",
    "p_eq_fn(t,p)\n",
    "\n",
    "p_eq_fn(0,0)"
   ]
  },
  {
   "cell_type": "code",
   "execution_count": 25,
   "id": "5b3001e8-f453-4183-a993-d5ad3f416bd1",
   "metadata": {},
   "outputs": [],
   "source": [
    "p_eq_fn(4,0)\n",
    "p_eq = p_eq_fn(0,0)"
   ]
  },
  {
   "cell_type": "code",
   "execution_count": 26,
   "id": "4003a4ed-76dd-471b-bb02-1be5484c1ee6",
   "metadata": {},
   "outputs": [
    {
     "data": {
      "text/plain": [
       "80.0"
      ]
     },
     "execution_count": 26,
     "metadata": {},
     "output_type": "execute_result"
    }
   ],
   "source": [
    "x_eq_fn=sp.lambdify(\n",
    "    (t,p), \n",
    "    sol_eqq\n",
    ")\n",
    "\n",
    "x_eq_fn(t,p)\n",
    "\n",
    "x_eq_fn(0,0)"
   ]
  },
  {
   "cell_type": "code",
   "execution_count": 27,
   "id": "cae6e6c7-ac9e-4f54-9c13-cc553be20a33",
   "metadata": {},
   "outputs": [
    {
     "data": {
      "text/plain": [
       "80.0"
      ]
     },
     "execution_count": 27,
     "metadata": {},
     "output_type": "execute_result"
    }
   ],
   "source": [
    "x_eq = x_eq_fn(0,0)\n",
    "x_eq\n",
    "\n"
   ]
  },
  {
   "cell_type": "code",
   "execution_count": 28,
   "id": "dbcfcc46-cb08-4da2-8739-89f3b337f029",
   "metadata": {},
   "outputs": [
    {
     "data": {
      "text/plain": [
       "82.29333333333334"
      ]
     },
     "execution_count": 28,
     "metadata": {},
     "output_type": "execute_result"
    }
   ],
   "source": [
    "x_eq_fn(4,0)"
   ]
  },
  {
   "cell_type": "code",
   "execution_count": 39,
   "id": "2f2178a8-4796-4bc0-8b3e-0a68ee7eeeff",
   "metadata": {},
   "outputs": [
    {
     "data": {
      "text/latex": [
       "$\\displaystyle 6506.36403100775$"
      ],
      "text/plain": [
       "6506.36403100775"
      ]
     },
     "execution_count": 39,
     "metadata": {},
     "output_type": "execute_result"
    }
   ],
   "source": [
    "producer_surplus = sp.integrate(x_eq-supply(p,0),(p,0,p_eq))\n",
    "producer_surplus\n",
    "producer_surplus_a = sp.integrate(x_eq_fn(4,0)-supply(p,4),(p,0,p_eq))\n",
    "producer_surplus_a                                "
   ]
  },
  {
   "cell_type": "code",
   "execution_count": 41,
   "id": "a34f294b-745a-467f-8d25-53f1f166efce",
   "metadata": {},
   "outputs": [
    {
     "data": {
      "text/latex": [
       "$\\displaystyle 8751.34167111111$"
      ],
      "text/plain": [
       "8751.34167111111"
      ]
     },
     "execution_count": 41,
     "metadata": {},
     "output_type": "execute_result"
    }
   ],
   "source": [
    "consumer_surplus=sp.integrate(demand(p)-x_eq,(p,0,p_eq))\n",
    "consumer_surplus_a= sp.integrate(demand(p)-x_eq_fn(4,0),(p,0,p_eq_fn(4,0)))\n",
    "consumer_surplus_a\n"
   ]
  },
  {
   "cell_type": "code",
   "execution_count": 43,
   "id": "5bc0c4e6-c57a-479e-9701-0f69e9e7296c",
   "metadata": {},
   "outputs": [
    {
     "data": {
      "text/latex": [
       "$\\displaystyle 15257.7057021189$"
      ],
      "text/plain": [
       "15257.7057021189"
      ]
     },
     "execution_count": 43,
     "metadata": {},
     "output_type": "execute_result"
    }
   ],
   "source": [
    "welfare_surplus = consumer_surplus + producer_surplus\n",
    "welfare_surplus_a = producer_surplus_a + consumer_surplus_a\n",
    "welfare_surplus_a"
   ]
  },
  {
   "cell_type": "code",
   "execution_count": 46,
   "id": "c6072b4c-7ea8-43e5-83ae-589101b53a60",
   "metadata": {},
   "outputs": [
    {
     "data": {
      "text/latex": [
       "$\\displaystyle 329.173333333333$"
      ],
      "text/plain": [
       "329.173333333333"
      ]
     },
     "execution_count": 46,
     "metadata": {},
     "output_type": "execute_result"
    }
   ],
   "source": [
    "avgift_prov =sp.integrate(4, (p, 0, x_eq_fn(4,0)))\n",
    "avgift_prov"
   ]
  },
  {
   "cell_type": "code",
   "execution_count": 48,
   "id": "376ffcfa-3139-4d7d-b636-eba08589b2df",
   "metadata": {},
   "outputs": [
    {
     "data": {
      "text/latex": [
       "$\\displaystyle 14.6773333333313$"
      ],
      "text/plain": [
       "14.6773333333313"
      ]
     },
     "execution_count": 48,
     "metadata": {},
     "output_type": "execute_result"
    }
   ],
   "source": [
    "død_v =sp.integrate(demand(p) - supply(p, 0), (p, p_eq_fn(4,0), p_eq))\n",
    "død_v"
   ]
  },
  {
   "cell_type": "code",
   "execution_count": 248,
   "id": "e7beb5ee-a610-4c2a-bac8-4efe0a6ed472",
   "metadata": {},
   "outputs": [
    {
     "data": {
      "text/plain": [
       "Text(0.5, 1.0, 'Markedslikevekt')"
      ]
     },
     "execution_count": 248,
     "metadata": {},
     "output_type": "execute_result"
    },
    {
     "data": {
      "image/png": "[encoded data removed]",
      "text/plain": [
       "<Figure size 640x480 with 1 Axes>"
      ]
     },
     "metadata": {},
     "output_type": "display_data"
    }
   ],
   "source": [
    "from matplotlib import pyplot as plt\n",
    "x_num=np.linspace(0,500,100)\n",
    "q =np.linspace(0,p_eq,100)\n",
    "\n",
    "t0 = sp.solve(eq_lik,p)\n",
    "\n",
    "#lag en akse\n",
    "\n",
    "def create_ax():\n",
    "    \n",
    "                fig, ax = plt.subplots()\n",
    "                ax.set_ylabel('Pris (p)', loc='top')\n",
    "                ax.set_xlabel('Kvantum (x)', loc='right')\n",
    "                ax.spines['top'].set_color('none')\n",
    "                ax.spines['right'].set_color('none')\n",
    "                ax.set(xlim=(0,400))\n",
    "                ax.set(ylim=(0,200))\n",
    "                \n",
    "                return fig, ax\n",
    "\n",
    "fig, ax = create_ax()\n",
    "\n",
    "# plott funksjonen\n",
    "ax.plot(x_num,demand(x_num), label='Etterspørsel')\n",
    "\n",
    "ax.plot(x_num,supply(x_num,0), label='Tilbud')\n",
    "\n",
    "\n",
    "\n",
    "ax.hlines(x_eq,0,p_eq, linestyles = \"dashed\", clip_on=False)\n",
    "ax.vlines(p_eq,0,x_eq, linestyles = \"dashed\", clip_on=False)\n",
    "\n",
    "ax.fill_between(q,x_eq,demand(q), color = \"green\",alpha = 0.3,label='Konsumentoverskudd')\n",
    "ax.fill_between(q,supply(q,0),x_eq, color = \"red\",alpha = 0.3,label='Produsentoverskudd')\n",
    "\n",
    "\n",
    "\n",
    "\n",
    "\n",
    "ax.legend(bbox_to_anchor=(1.5,0.6))\n",
    "\n",
    "# tittel\n",
    "ax.set_title('Markedslikevekt')\n",
    "\n",
    "#vis navnene:\n"
   ]
  },
  {
   "cell_type": "code",
   "execution_count": 278,
   "id": "3a1fa50d-0e76-41b1-a4c7-23bf2bc3f1fc",
   "metadata": {},
   "outputs": [
    {
     "data": {
      "text/plain": [
       "<matplotlib.legend.Legend at 0x7f2c91d22fd0>"
      ]
     },
     "execution_count": 278,
     "metadata": {},
     "output_type": "execute_result"
    },
    {
     "data": {
      "image/png": "[encoded data removed]",
      "text/plain": [
       "<Figure size 640x480 with 1 Axes>"
      ]
     },
     "metadata": {},
     "output_type": "display_data"
    }
   ],
   "source": [
    " x_num=np.linspace(0.1,500,100)\n",
    "q =np.linspace(0,p_eq,200)\n",
    "q2 = np.linspace(0,p_eq_fn(4,0),200)\n",
    "\n",
    "#lag en akse\n",
    "\n",
    "def create_ax():\n",
    "    \n",
    "                fig, ax = plt.subplots()\n",
    "                ax.set_ylabel('Pris (p)', loc='top')\n",
    "                ax.set_xlabel('Kvantum (x)', loc='right')\n",
    "                ax.spines['top'].set_color('none')\n",
    "                ax.spines['right'].set_color('none')\n",
    "                ax.set(xlim=(0,350))\n",
    "                ax.set(ylim=(0,150))\n",
    "                \n",
    "                return fig, ax\n",
    "\n",
    "fig, ax = create_ax()\n",
    "\n",
    "# plott funksjonen\n",
    "ax.plot(x_num,demand(x_num), label='Etterspørsel')\n",
    "ax.plot(x_num,supply(x_num,0), label='Tilbud')\n",
    "ax.plot(x_num,supply(x_num,4), label=\"Tilbud2\")\n",
    "\n",
    "\n",
    "\n",
    "ax.hlines(x_eq,0,p_eq, linestyles = \"dashed\", clip_on=False)\n",
    "ax.hlines(x_eq_fn(4,0),0,p_eq_fn(4,0), linestyles = \"dashed\", clip_on=False)\n",
    "\n",
    "\n",
    "ax.fill_between(q2,x_eq_fn(4,0), x_eq,color=\"red\" ,alpha = 0.3,label='Avgift')\n",
    "ax.legend(bbox_to_anchor=(1.5,0.6))\n"
   ]
  },
  {
   "cell_type": "code",
   "execution_count": null,
   "id": "fd0cfbbc-45e7-4da1-a2af-dc8a632e1289",
   "metadata": {},
   "outputs": [],
   "source": [
    "ax.vlines(x_eq_fn(4,0),0, p_eq_fn(4,0), linestyles = \"dashed\", clip_on=False)\n",
    "ax.hlines(p_eq_fn(4,0),0, x_eq_fn(4,0), linestyles = \"dashed\", clip_on=False)\n",
    "ax.plot(supply(x_num, 4),x_num, label='Tilbud med avgift (t=4)')\n",
    "ax.fill_between(q,supply(q,0),p_eq, color = \"red\",alpha = 0.3,label='Produsentoverskudd')\n"
   ]
  },
  {
   "cell_type": "code",
   "execution_count": 55,
   "id": "268d8d4c-3ffd-42c2-bc96-77697c6ea617",
   "metadata": {},
   "outputs": [
    {
     "data": {
      "text/markdown": [
       "\n",
       "|                     | Før avgift            |Etter avgift    | Endring (etter avgift-før avgift)|\n",
       "| :-------------------| :----------------------------------------|:-------------|:---------------|\n",
       "| Konsumentpris:   | $80.0$    | $82.29$| $2.29$  |\n",
       "| Produsentpris:  | $80.0$ | $78.29$  | $-1.71$ |\n",
       "| Kvantum:  | $244.0$  | $236.66$   |  $-7.34$  |\n",
       "| Konsumentoverskudd: | $9302.50$ |$8751.34$ |  $-551.16$   |\n",
       "| Produsentoverskudd: | $6922.79$ | $6506.36$ |  $-416.43$ |\n",
       "| KO + PO:    |  $16225.29$   | $15257.71$| $-967.58$ |\n",
       "|Avgiftsproveny :| $0$  |$329.17$ | $329.17$|\n",
       "| Dødvektstap:  |$0$   | $14.68$ | $14.68$|\n"
      ],
      "text/plain": [
       "<IPython.core.display.Markdown object>"
      ]
     },
     "metadata": {},
     "output_type": "display_data"
    }
   ],
   "source": [
    "from IPython.display import Markdown\n",
    "\n",
    "tbl=f\"\"\"\n",
    "|                     | Før avgift            |Etter avgift    | Endring (etter avgift-før avgift)|\n",
    "| :-------------------| :----------------------------------------|:-------------|:---------------|\n",
    "| Konsumentpris:   | ${x_eq }$    | ${round(x_eq_fn(4,0), 2)}$| ${round(x_eq_fn(4,0) - x_eq, 2)}$  |\n",
    "| Produsentpris:  | ${x_eq }$ | ${round(x_eq_fn(4,0), 2)-4 }$  | ${round((x_eq_fn(4,0) - x_eq)-4, 2)}$ |\n",
    "| Kvantum:  | ${round(p_eq, 2)}$  | ${round(p_eq_fn(4,0), 2)}$   |  ${round(p_eq_fn(4,0) - p_eq, 2)}$  |\n",
    "| Konsumentoverskudd: | ${round(consumer_surplus, 2)}$ |${round(consumer_surplus_a, 2)}$ |  ${round(consumer_surplus_a - consumer_surplus, 2)}$   |\n",
    "| Produsentoverskudd: | ${round(producer_surplus, 2)}$ | ${round(producer_surplus_a, 2)}$ |  ${round(producer_surplus_a - producer_surplus, 2)}$ |\n",
    "| KO + PO:    |  ${round(producer_surplus + consumer_surplus, 2)}$   | ${round(producer_surplus_a + consumer_surplus_a, 2)}$| ${round((producer_surplus_a + consumer_surplus_a) - (producer_surplus + consumer_surplus), 2)}$ |\n",
    "|Avgiftsproveny :| ${0}$  |${round(avgift_prov, 2)}$ | ${round(avgift_prov, 2) - 0}$|\n",
    "| Dødvektstap:  |${0}$   | ${round(død_v, 2)}$ | ${round(død_v, 2) - 0}$|\n",
    "\"\"\"\n",
    "display(Markdown(tbl))"
   ]
  },
  {
   "cell_type": "code",
   "execution_count": null,
   "id": "782325a4-3d6f-457f-ae13-09fd54aab5bd",
   "metadata": {},
   "outputs": [],
   "source": []
  },
  {
   "cell_type": "code",
   "execution_count": null,
   "id": "249ca700-ec24-4f44-83f1-72f331305cbb",
   "metadata": {},
   "outputs": [],
   "source": []
  }
 ],
 "metadata": {
  "kernelspec": {
   "display_name": "Python 3 (ipykernel)",
   "language": "python",
   "name": "python3"
  },
  "language_info": {
   "codemirror_mode": {
    "name": "ipython",
    "version": 3
   },
   "file_extension": ".py",
   "mimetype": "text/x-python",
   "name": "python",
   "nbconvert_exporter": "python",
   "pygments_lexer": "ipython3",
   "version": "3.9.15"
  }
 },
 "nbformat": 4,
 "nbformat_minor": 5
}
